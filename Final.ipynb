{
  "nbformat": 4,
  "nbformat_minor": 0,
  "metadata": {
    "colab": {
      "provenance": []
    },
    "kernelspec": {
      "name": "python3",
      "display_name": "Python 3"
    },
    "language_info": {
      "name": "python"
    }
  },
  "cells": [
    {
      "cell_type": "code",
      "execution_count": 1,
      "metadata": {
        "id": "aS92iR1OABCC"
      },
      "outputs": [],
      "source": [
        "import pandas as pd\n",
        "import matplotlib.pyplot as plt\n",
        "%matplotlib inline\n",
        "import csv\n",
        "import numpy as np\n",
        "from collections import Counter\n",
        "import seaborn as sns\n",
        "\n",
        "#importing everything I may need"
      ]
    },
    {
      "cell_type": "code",
      "source": [
        "import io \n",
        "from google.colab import files as f \n",
        "\n",
        "#cool trick Alina used in one of her projects"
      ],
      "metadata": {
        "id": "INKiIVhVRIUO"
      },
      "execution_count": 2,
      "outputs": []
    },
    {
      "cell_type": "code",
      "source": [
        "uploaded = f.upload() #function to load file from local computer "
      ],
      "metadata": {
        "colab": {
          "base_uri": "https://localhost:8080/",
          "height": 38
        },
        "id": "cm6sJhjCRMsd",
        "outputId": "0bee6e81-bf66-4aa7-d1a5-9e6a8f6bf7b1"
      },
      "execution_count": null,
      "outputs": [
        {
          "output_type": "display_data",
          "data": {
            "text/plain": [
              "<IPython.core.display.HTML object>"
            ],
            "text/html": [
              "\n",
              "     <input type=\"file\" id=\"files-d0748434-335b-43f6-b980-00242e2a25a2\" name=\"files[]\" multiple disabled\n",
              "        style=\"border:none\" />\n",
              "     <output id=\"result-d0748434-335b-43f6-b980-00242e2a25a2\">\n",
              "      Upload widget is only available when the cell has been executed in the\n",
              "      current browser session. Please rerun this cell to enable.\n",
              "      </output>\n",
              "      <script>// Copyright 2017 Google LLC\n",
              "//\n",
              "// Licensed under the Apache License, Version 2.0 (the \"License\");\n",
              "// you may not use this file except in compliance with the License.\n",
              "// You may obtain a copy of the License at\n",
              "//\n",
              "//      http://www.apache.org/licenses/LICENSE-2.0\n",
              "//\n",
              "// Unless required by applicable law or agreed to in writing, software\n",
              "// distributed under the License is distributed on an \"AS IS\" BASIS,\n",
              "// WITHOUT WARRANTIES OR CONDITIONS OF ANY KIND, either express or implied.\n",
              "// See the License for the specific language governing permissions and\n",
              "// limitations under the License.\n",
              "\n",
              "/**\n",
              " * @fileoverview Helpers for google.colab Python module.\n",
              " */\n",
              "(function(scope) {\n",
              "function span(text, styleAttributes = {}) {\n",
              "  const element = document.createElement('span');\n",
              "  element.textContent = text;\n",
              "  for (const key of Object.keys(styleAttributes)) {\n",
              "    element.style[key] = styleAttributes[key];\n",
              "  }\n",
              "  return element;\n",
              "}\n",
              "\n",
              "// Max number of bytes which will be uploaded at a time.\n",
              "const MAX_PAYLOAD_SIZE = 100 * 1024;\n",
              "\n",
              "function _uploadFiles(inputId, outputId) {\n",
              "  const steps = uploadFilesStep(inputId, outputId);\n",
              "  const outputElement = document.getElementById(outputId);\n",
              "  // Cache steps on the outputElement to make it available for the next call\n",
              "  // to uploadFilesContinue from Python.\n",
              "  outputElement.steps = steps;\n",
              "\n",
              "  return _uploadFilesContinue(outputId);\n",
              "}\n",
              "\n",
              "// This is roughly an async generator (not supported in the browser yet),\n",
              "// where there are multiple asynchronous steps and the Python side is going\n",
              "// to poll for completion of each step.\n",
              "// This uses a Promise to block the python side on completion of each step,\n",
              "// then passes the result of the previous step as the input to the next step.\n",
              "function _uploadFilesContinue(outputId) {\n",
              "  const outputElement = document.getElementById(outputId);\n",
              "  const steps = outputElement.steps;\n",
              "\n",
              "  const next = steps.next(outputElement.lastPromiseValue);\n",
              "  return Promise.resolve(next.value.promise).then((value) => {\n",
              "    // Cache the last promise value to make it available to the next\n",
              "    // step of the generator.\n",
              "    outputElement.lastPromiseValue = value;\n",
              "    return next.value.response;\n",
              "  });\n",
              "}\n",
              "\n",
              "/**\n",
              " * Generator function which is called between each async step of the upload\n",
              " * process.\n",
              " * @param {string} inputId Element ID of the input file picker element.\n",
              " * @param {string} outputId Element ID of the output display.\n",
              " * @return {!Iterable<!Object>} Iterable of next steps.\n",
              " */\n",
              "function* uploadFilesStep(inputId, outputId) {\n",
              "  const inputElement = document.getElementById(inputId);\n",
              "  inputElement.disabled = false;\n",
              "\n",
              "  const outputElement = document.getElementById(outputId);\n",
              "  outputElement.innerHTML = '';\n",
              "\n",
              "  const pickedPromise = new Promise((resolve) => {\n",
              "    inputElement.addEventListener('change', (e) => {\n",
              "      resolve(e.target.files);\n",
              "    });\n",
              "  });\n",
              "\n",
              "  const cancel = document.createElement('button');\n",
              "  inputElement.parentElement.appendChild(cancel);\n",
              "  cancel.textContent = 'Cancel upload';\n",
              "  const cancelPromise = new Promise((resolve) => {\n",
              "    cancel.onclick = () => {\n",
              "      resolve(null);\n",
              "    };\n",
              "  });\n",
              "\n",
              "  // Wait for the user to pick the files.\n",
              "  const files = yield {\n",
              "    promise: Promise.race([pickedPromise, cancelPromise]),\n",
              "    response: {\n",
              "      action: 'starting',\n",
              "    }\n",
              "  };\n",
              "\n",
              "  cancel.remove();\n",
              "\n",
              "  // Disable the input element since further picks are not allowed.\n",
              "  inputElement.disabled = true;\n",
              "\n",
              "  if (!files) {\n",
              "    return {\n",
              "      response: {\n",
              "        action: 'complete',\n",
              "      }\n",
              "    };\n",
              "  }\n",
              "\n",
              "  for (const file of files) {\n",
              "    const li = document.createElement('li');\n",
              "    li.append(span(file.name, {fontWeight: 'bold'}));\n",
              "    li.append(span(\n",
              "        `(${file.type || 'n/a'}) - ${file.size} bytes, ` +\n",
              "        `last modified: ${\n",
              "            file.lastModifiedDate ? file.lastModifiedDate.toLocaleDateString() :\n",
              "                                    'n/a'} - `));\n",
              "    const percent = span('0% done');\n",
              "    li.appendChild(percent);\n",
              "\n",
              "    outputElement.appendChild(li);\n",
              "\n",
              "    const fileDataPromise = new Promise((resolve) => {\n",
              "      const reader = new FileReader();\n",
              "      reader.onload = (e) => {\n",
              "        resolve(e.target.result);\n",
              "      };\n",
              "      reader.readAsArrayBuffer(file);\n",
              "    });\n",
              "    // Wait for the data to be ready.\n",
              "    let fileData = yield {\n",
              "      promise: fileDataPromise,\n",
              "      response: {\n",
              "        action: 'continue',\n",
              "      }\n",
              "    };\n",
              "\n",
              "    // Use a chunked sending to avoid message size limits. See b/62115660.\n",
              "    let position = 0;\n",
              "    do {\n",
              "      const length = Math.min(fileData.byteLength - position, MAX_PAYLOAD_SIZE);\n",
              "      const chunk = new Uint8Array(fileData, position, length);\n",
              "      position += length;\n",
              "\n",
              "      const base64 = btoa(String.fromCharCode.apply(null, chunk));\n",
              "      yield {\n",
              "        response: {\n",
              "          action: 'append',\n",
              "          file: file.name,\n",
              "          data: base64,\n",
              "        },\n",
              "      };\n",
              "\n",
              "      let percentDone = fileData.byteLength === 0 ?\n",
              "          100 :\n",
              "          Math.round((position / fileData.byteLength) * 100);\n",
              "      percent.textContent = `${percentDone}% done`;\n",
              "\n",
              "    } while (position < fileData.byteLength);\n",
              "  }\n",
              "\n",
              "  // All done.\n",
              "  yield {\n",
              "    response: {\n",
              "      action: 'complete',\n",
              "    }\n",
              "  };\n",
              "}\n",
              "\n",
              "scope.google = scope.google || {};\n",
              "scope.google.colab = scope.google.colab || {};\n",
              "scope.google.colab._files = {\n",
              "  _uploadFiles,\n",
              "  _uploadFilesContinue,\n",
              "};\n",
              "})(self);\n",
              "</script> "
            ]
          },
          "metadata": {}
        }
      ]
    },
    {
      "cell_type": "code",
      "source": [
        "df = pd.read_csv(io.BytesIO(uploaded['ALL.csv'])) #uploaded dataset \n",
        "df"
      ],
      "metadata": {
        "id": "cjirHG0-RXHT"
      },
      "execution_count": null,
      "outputs": []
    },
    {
      "cell_type": "code",
      "source": [
        "df.info"
      ],
      "metadata": {
        "colab": {
          "base_uri": "https://localhost:8080/"
        },
        "id": "4bRqUdLjCbiH",
        "outputId": "9cf39b41-8361-4e5d-ea60-8d762017acb4"
      },
      "execution_count": null,
      "outputs": [
        {
          "output_type": "execute_result",
          "data": {
            "text/plain": [
              "<bound method DataFrame.info of       Tran ID        DATE          ITEM   QTY                      PRODUCT  \\\n",
              "0     1045254  01/02/2020   SPFLRES10WG   2.0   FLASHING RESIN GRAY WINTER   \n",
              "1     1044877  01/02/2020   SPFLRES10WG  15.0   FLASHING RESIN GRAY WINTER   \n",
              "2     1044869  01/02/2020  SPFLRES10WWG   1.0  FLASHING RESIN WHITE WINTER   \n",
              "3     1044866  01/02/2020  SPFLRES10WWG  25.0  FLASHING RESIN WHITE WINTER   \n",
              "4     1043993  01/02/2020  SPFLRES10WWG   2.0  FLASHING RESIN WHITE WINTER   \n",
              "...       ...         ...           ...   ...                          ...   \n",
              "8750  1046321  12/30/2022  SPROOF20LGWG   1.0    ROOFING RESIN GRAY WINTER   \n",
              "8751  1043508  12/30/2022   SPROOF20WWG   5.0   ROOFING RESIN WHITE WINTER   \n",
              "8752  1046054  12/30/2022   SPROOF20WWG   2.0   ROOFING RESIN WHITE WINTER   \n",
              "8753  1046024  12/30/2022   SPROOF20WWG   3.0   ROOFING RESIN WHITE WINTER   \n",
              "8754  1045418  12/30/2022   SPROOF20WWG   2.0   ROOFING RESIN WHITE WINTER   \n",
              "\n",
              "                            ADDRESS      CITY  \n",
              "0                             art b       NaN  \n",
              "1                   1345 6th Avenue  New York  \n",
              "2                   719 North Henry       NaN  \n",
              "3     Eagle One Roofing Contractors   Astoria  \n",
              "4                       805 3rd ave       NaN  \n",
              "...                             ...       ...  \n",
              "8750              102-36 62nd Drive    Queens  \n",
              "8751                 730 5th Avenue  New York  \n",
              "8752                 730 5th Avenue  New York  \n",
              "8753            27 West 23rd Street  New York  \n",
              "8754               515 Blake Avenue  Brooklyn  \n",
              "\n",
              "[8755 rows x 7 columns]>"
            ]
          },
          "metadata": {},
          "execution_count": 5
        }
      ]
    },
    {
      "cell_type": "code",
      "source": [
        "df.head()"
      ],
      "metadata": {
        "colab": {
          "base_uri": "https://localhost:8080/",
          "height": 206
        },
        "id": "5vj7wNd0EbBU",
        "outputId": "4129ccd5-00df-4ad9-daac-2b4ff6cf9894"
      },
      "execution_count": null,
      "outputs": [
        {
          "output_type": "execute_result",
          "data": {
            "text/plain": [
              "   Tran ID        DATE          ITEM   QTY                      PRODUCT  \\\n",
              "0  1045254  01/02/2020   SPFLRES10WG   2.0   FLASHING RESIN GRAY WINTER   \n",
              "1  1044877  01/02/2020   SPFLRES10WG  15.0   FLASHING RESIN GRAY WINTER   \n",
              "2  1044869  01/02/2020  SPFLRES10WWG   1.0  FLASHING RESIN WHITE WINTER   \n",
              "3  1044866  01/02/2020  SPFLRES10WWG  25.0  FLASHING RESIN WHITE WINTER   \n",
              "4  1043993  01/02/2020  SPFLRES10WWG   2.0  FLASHING RESIN WHITE WINTER   \n",
              "\n",
              "                         ADDRESS      CITY  \n",
              "0                          art b       NaN  \n",
              "1                1345 6th Avenue  New York  \n",
              "2                719 North Henry       NaN  \n",
              "3  Eagle One Roofing Contractors   Astoria  \n",
              "4                    805 3rd ave       NaN  "
            ],
            "text/html": [
              "\n",
              "  <div id=\"df-59c61c99-3d64-4a97-847b-c0a2cc5ab2e3\">\n",
              "    <div class=\"colab-df-container\">\n",
              "      <div>\n",
              "<style scoped>\n",
              "    .dataframe tbody tr th:only-of-type {\n",
              "        vertical-align: middle;\n",
              "    }\n",
              "\n",
              "    .dataframe tbody tr th {\n",
              "        vertical-align: top;\n",
              "    }\n",
              "\n",
              "    .dataframe thead th {\n",
              "        text-align: right;\n",
              "    }\n",
              "</style>\n",
              "<table border=\"1\" class=\"dataframe\">\n",
              "  <thead>\n",
              "    <tr style=\"text-align: right;\">\n",
              "      <th></th>\n",
              "      <th>Tran ID</th>\n",
              "      <th>DATE</th>\n",
              "      <th>ITEM</th>\n",
              "      <th>QTY</th>\n",
              "      <th>PRODUCT</th>\n",
              "      <th>ADDRESS</th>\n",
              "      <th>CITY</th>\n",
              "    </tr>\n",
              "  </thead>\n",
              "  <tbody>\n",
              "    <tr>\n",
              "      <th>0</th>\n",
              "      <td>1045254</td>\n",
              "      <td>01/02/2020</td>\n",
              "      <td>SPFLRES10WG</td>\n",
              "      <td>2.0</td>\n",
              "      <td>FLASHING RESIN GRAY WINTER</td>\n",
              "      <td>art b</td>\n",
              "      <td>NaN</td>\n",
              "    </tr>\n",
              "    <tr>\n",
              "      <th>1</th>\n",
              "      <td>1044877</td>\n",
              "      <td>01/02/2020</td>\n",
              "      <td>SPFLRES10WG</td>\n",
              "      <td>15.0</td>\n",
              "      <td>FLASHING RESIN GRAY WINTER</td>\n",
              "      <td>1345 6th Avenue</td>\n",
              "      <td>New York</td>\n",
              "    </tr>\n",
              "    <tr>\n",
              "      <th>2</th>\n",
              "      <td>1044869</td>\n",
              "      <td>01/02/2020</td>\n",
              "      <td>SPFLRES10WWG</td>\n",
              "      <td>1.0</td>\n",
              "      <td>FLASHING RESIN WHITE WINTER</td>\n",
              "      <td>719 North Henry</td>\n",
              "      <td>NaN</td>\n",
              "    </tr>\n",
              "    <tr>\n",
              "      <th>3</th>\n",
              "      <td>1044866</td>\n",
              "      <td>01/02/2020</td>\n",
              "      <td>SPFLRES10WWG</td>\n",
              "      <td>25.0</td>\n",
              "      <td>FLASHING RESIN WHITE WINTER</td>\n",
              "      <td>Eagle One Roofing Contractors</td>\n",
              "      <td>Astoria</td>\n",
              "    </tr>\n",
              "    <tr>\n",
              "      <th>4</th>\n",
              "      <td>1043993</td>\n",
              "      <td>01/02/2020</td>\n",
              "      <td>SPFLRES10WWG</td>\n",
              "      <td>2.0</td>\n",
              "      <td>FLASHING RESIN WHITE WINTER</td>\n",
              "      <td>805 3rd ave</td>\n",
              "      <td>NaN</td>\n",
              "    </tr>\n",
              "  </tbody>\n",
              "</table>\n",
              "</div>\n",
              "      <button class=\"colab-df-convert\" onclick=\"convertToInteractive('df-59c61c99-3d64-4a97-847b-c0a2cc5ab2e3')\"\n",
              "              title=\"Convert this dataframe to an interactive table.\"\n",
              "              style=\"display:none;\">\n",
              "        \n",
              "  <svg xmlns=\"http://www.w3.org/2000/svg\" height=\"24px\"viewBox=\"0 0 24 24\"\n",
              "       width=\"24px\">\n",
              "    <path d=\"M0 0h24v24H0V0z\" fill=\"none\"/>\n",
              "    <path d=\"M18.56 5.44l.94 2.06.94-2.06 2.06-.94-2.06-.94-.94-2.06-.94 2.06-2.06.94zm-11 1L8.5 8.5l.94-2.06 2.06-.94-2.06-.94L8.5 2.5l-.94 2.06-2.06.94zm10 10l.94 2.06.94-2.06 2.06-.94-2.06-.94-.94-2.06-.94 2.06-2.06.94z\"/><path d=\"M17.41 7.96l-1.37-1.37c-.4-.4-.92-.59-1.43-.59-.52 0-1.04.2-1.43.59L10.3 9.45l-7.72 7.72c-.78.78-.78 2.05 0 2.83L4 21.41c.39.39.9.59 1.41.59.51 0 1.02-.2 1.41-.59l7.78-7.78 2.81-2.81c.8-.78.8-2.07 0-2.86zM5.41 20L4 18.59l7.72-7.72 1.47 1.35L5.41 20z\"/>\n",
              "  </svg>\n",
              "      </button>\n",
              "      \n",
              "  <style>\n",
              "    .colab-df-container {\n",
              "      display:flex;\n",
              "      flex-wrap:wrap;\n",
              "      gap: 12px;\n",
              "    }\n",
              "\n",
              "    .colab-df-convert {\n",
              "      background-color: #E8F0FE;\n",
              "      border: none;\n",
              "      border-radius: 50%;\n",
              "      cursor: pointer;\n",
              "      display: none;\n",
              "      fill: #1967D2;\n",
              "      height: 32px;\n",
              "      padding: 0 0 0 0;\n",
              "      width: 32px;\n",
              "    }\n",
              "\n",
              "    .colab-df-convert:hover {\n",
              "      background-color: #E2EBFA;\n",
              "      box-shadow: 0px 1px 2px rgba(60, 64, 67, 0.3), 0px 1px 3px 1px rgba(60, 64, 67, 0.15);\n",
              "      fill: #174EA6;\n",
              "    }\n",
              "\n",
              "    [theme=dark] .colab-df-convert {\n",
              "      background-color: #3B4455;\n",
              "      fill: #D2E3FC;\n",
              "    }\n",
              "\n",
              "    [theme=dark] .colab-df-convert:hover {\n",
              "      background-color: #434B5C;\n",
              "      box-shadow: 0px 1px 3px 1px rgba(0, 0, 0, 0.15);\n",
              "      filter: drop-shadow(0px 1px 2px rgba(0, 0, 0, 0.3));\n",
              "      fill: #FFFFFF;\n",
              "    }\n",
              "  </style>\n",
              "\n",
              "      <script>\n",
              "        const buttonEl =\n",
              "          document.querySelector('#df-59c61c99-3d64-4a97-847b-c0a2cc5ab2e3 button.colab-df-convert');\n",
              "        buttonEl.style.display =\n",
              "          google.colab.kernel.accessAllowed ? 'block' : 'none';\n",
              "\n",
              "        async function convertToInteractive(key) {\n",
              "          const element = document.querySelector('#df-59c61c99-3d64-4a97-847b-c0a2cc5ab2e3');\n",
              "          const dataTable =\n",
              "            await google.colab.kernel.invokeFunction('convertToInteractive',\n",
              "                                                     [key], {});\n",
              "          if (!dataTable) return;\n",
              "\n",
              "          const docLinkHtml = 'Like what you see? Visit the ' +\n",
              "            '<a target=\"_blank\" href=https://colab.research.google.com/notebooks/data_table.ipynb>data table notebook</a>'\n",
              "            + ' to learn more about interactive tables.';\n",
              "          element.innerHTML = '';\n",
              "          dataTable['output_type'] = 'display_data';\n",
              "          await google.colab.output.renderOutput(dataTable, element);\n",
              "          const docLink = document.createElement('div');\n",
              "          docLink.innerHTML = docLinkHtml;\n",
              "          element.appendChild(docLink);\n",
              "        }\n",
              "      </script>\n",
              "    </div>\n",
              "  </div>\n",
              "  "
            ]
          },
          "metadata": {},
          "execution_count": 6
        }
      ]
    },
    {
      "cell_type": "code",
      "source": [
        "df.tail()"
      ],
      "metadata": {
        "colab": {
          "base_uri": "https://localhost:8080/",
          "height": 206
        },
        "id": "zvDu6eyVZ8II",
        "outputId": "56626871-d8a3-4721-bd68-32edcba74def"
      },
      "execution_count": null,
      "outputs": [
        {
          "output_type": "execute_result",
          "data": {
            "text/plain": [
              "      Tran ID        DATE          ITEM  QTY                     PRODUCT  \\\n",
              "8750  1046321  12/30/2022  SPROOF20LGWG  1.0   ROOFING RESIN GRAY WINTER   \n",
              "8751  1043508  12/30/2022   SPROOF20WWG  5.0  ROOFING RESIN WHITE WINTER   \n",
              "8752  1046054  12/30/2022   SPROOF20WWG  2.0  ROOFING RESIN WHITE WINTER   \n",
              "8753  1046024  12/30/2022   SPROOF20WWG  3.0  ROOFING RESIN WHITE WINTER   \n",
              "8754  1045418  12/30/2022   SPROOF20WWG  2.0  ROOFING RESIN WHITE WINTER   \n",
              "\n",
              "                  ADDRESS      CITY  \n",
              "8750    102-36 62nd Drive    Queens  \n",
              "8751       730 5th Avenue  New York  \n",
              "8752       730 5th Avenue  New York  \n",
              "8753  27 West 23rd Street  New York  \n",
              "8754     515 Blake Avenue  Brooklyn  "
            ],
            "text/html": [
              "\n",
              "  <div id=\"df-4cbd0272-2f2f-4401-a5f9-f9bdcf6a9d17\">\n",
              "    <div class=\"colab-df-container\">\n",
              "      <div>\n",
              "<style scoped>\n",
              "    .dataframe tbody tr th:only-of-type {\n",
              "        vertical-align: middle;\n",
              "    }\n",
              "\n",
              "    .dataframe tbody tr th {\n",
              "        vertical-align: top;\n",
              "    }\n",
              "\n",
              "    .dataframe thead th {\n",
              "        text-align: right;\n",
              "    }\n",
              "</style>\n",
              "<table border=\"1\" class=\"dataframe\">\n",
              "  <thead>\n",
              "    <tr style=\"text-align: right;\">\n",
              "      <th></th>\n",
              "      <th>Tran ID</th>\n",
              "      <th>DATE</th>\n",
              "      <th>ITEM</th>\n",
              "      <th>QTY</th>\n",
              "      <th>PRODUCT</th>\n",
              "      <th>ADDRESS</th>\n",
              "      <th>CITY</th>\n",
              "    </tr>\n",
              "  </thead>\n",
              "  <tbody>\n",
              "    <tr>\n",
              "      <th>8750</th>\n",
              "      <td>1046321</td>\n",
              "      <td>12/30/2022</td>\n",
              "      <td>SPROOF20LGWG</td>\n",
              "      <td>1.0</td>\n",
              "      <td>ROOFING RESIN GRAY WINTER</td>\n",
              "      <td>102-36 62nd Drive</td>\n",
              "      <td>Queens</td>\n",
              "    </tr>\n",
              "    <tr>\n",
              "      <th>8751</th>\n",
              "      <td>1043508</td>\n",
              "      <td>12/30/2022</td>\n",
              "      <td>SPROOF20WWG</td>\n",
              "      <td>5.0</td>\n",
              "      <td>ROOFING RESIN WHITE WINTER</td>\n",
              "      <td>730 5th Avenue</td>\n",
              "      <td>New York</td>\n",
              "    </tr>\n",
              "    <tr>\n",
              "      <th>8752</th>\n",
              "      <td>1046054</td>\n",
              "      <td>12/30/2022</td>\n",
              "      <td>SPROOF20WWG</td>\n",
              "      <td>2.0</td>\n",
              "      <td>ROOFING RESIN WHITE WINTER</td>\n",
              "      <td>730 5th Avenue</td>\n",
              "      <td>New York</td>\n",
              "    </tr>\n",
              "    <tr>\n",
              "      <th>8753</th>\n",
              "      <td>1046024</td>\n",
              "      <td>12/30/2022</td>\n",
              "      <td>SPROOF20WWG</td>\n",
              "      <td>3.0</td>\n",
              "      <td>ROOFING RESIN WHITE WINTER</td>\n",
              "      <td>27 West 23rd Street</td>\n",
              "      <td>New York</td>\n",
              "    </tr>\n",
              "    <tr>\n",
              "      <th>8754</th>\n",
              "      <td>1045418</td>\n",
              "      <td>12/30/2022</td>\n",
              "      <td>SPROOF20WWG</td>\n",
              "      <td>2.0</td>\n",
              "      <td>ROOFING RESIN WHITE WINTER</td>\n",
              "      <td>515 Blake Avenue</td>\n",
              "      <td>Brooklyn</td>\n",
              "    </tr>\n",
              "  </tbody>\n",
              "</table>\n",
              "</div>\n",
              "      <button class=\"colab-df-convert\" onclick=\"convertToInteractive('df-4cbd0272-2f2f-4401-a5f9-f9bdcf6a9d17')\"\n",
              "              title=\"Convert this dataframe to an interactive table.\"\n",
              "              style=\"display:none;\">\n",
              "        \n",
              "  <svg xmlns=\"http://www.w3.org/2000/svg\" height=\"24px\"viewBox=\"0 0 24 24\"\n",
              "       width=\"24px\">\n",
              "    <path d=\"M0 0h24v24H0V0z\" fill=\"none\"/>\n",
              "    <path d=\"M18.56 5.44l.94 2.06.94-2.06 2.06-.94-2.06-.94-.94-2.06-.94 2.06-2.06.94zm-11 1L8.5 8.5l.94-2.06 2.06-.94-2.06-.94L8.5 2.5l-.94 2.06-2.06.94zm10 10l.94 2.06.94-2.06 2.06-.94-2.06-.94-.94-2.06-.94 2.06-2.06.94z\"/><path d=\"M17.41 7.96l-1.37-1.37c-.4-.4-.92-.59-1.43-.59-.52 0-1.04.2-1.43.59L10.3 9.45l-7.72 7.72c-.78.78-.78 2.05 0 2.83L4 21.41c.39.39.9.59 1.41.59.51 0 1.02-.2 1.41-.59l7.78-7.78 2.81-2.81c.8-.78.8-2.07 0-2.86zM5.41 20L4 18.59l7.72-7.72 1.47 1.35L5.41 20z\"/>\n",
              "  </svg>\n",
              "      </button>\n",
              "      \n",
              "  <style>\n",
              "    .colab-df-container {\n",
              "      display:flex;\n",
              "      flex-wrap:wrap;\n",
              "      gap: 12px;\n",
              "    }\n",
              "\n",
              "    .colab-df-convert {\n",
              "      background-color: #E8F0FE;\n",
              "      border: none;\n",
              "      border-radius: 50%;\n",
              "      cursor: pointer;\n",
              "      display: none;\n",
              "      fill: #1967D2;\n",
              "      height: 32px;\n",
              "      padding: 0 0 0 0;\n",
              "      width: 32px;\n",
              "    }\n",
              "\n",
              "    .colab-df-convert:hover {\n",
              "      background-color: #E2EBFA;\n",
              "      box-shadow: 0px 1px 2px rgba(60, 64, 67, 0.3), 0px 1px 3px 1px rgba(60, 64, 67, 0.15);\n",
              "      fill: #174EA6;\n",
              "    }\n",
              "\n",
              "    [theme=dark] .colab-df-convert {\n",
              "      background-color: #3B4455;\n",
              "      fill: #D2E3FC;\n",
              "    }\n",
              "\n",
              "    [theme=dark] .colab-df-convert:hover {\n",
              "      background-color: #434B5C;\n",
              "      box-shadow: 0px 1px 3px 1px rgba(0, 0, 0, 0.15);\n",
              "      filter: drop-shadow(0px 1px 2px rgba(0, 0, 0, 0.3));\n",
              "      fill: #FFFFFF;\n",
              "    }\n",
              "  </style>\n",
              "\n",
              "      <script>\n",
              "        const buttonEl =\n",
              "          document.querySelector('#df-4cbd0272-2f2f-4401-a5f9-f9bdcf6a9d17 button.colab-df-convert');\n",
              "        buttonEl.style.display =\n",
              "          google.colab.kernel.accessAllowed ? 'block' : 'none';\n",
              "\n",
              "        async function convertToInteractive(key) {\n",
              "          const element = document.querySelector('#df-4cbd0272-2f2f-4401-a5f9-f9bdcf6a9d17');\n",
              "          const dataTable =\n",
              "            await google.colab.kernel.invokeFunction('convertToInteractive',\n",
              "                                                     [key], {});\n",
              "          if (!dataTable) return;\n",
              "\n",
              "          const docLinkHtml = 'Like what you see? Visit the ' +\n",
              "            '<a target=\"_blank\" href=https://colab.research.google.com/notebooks/data_table.ipynb>data table notebook</a>'\n",
              "            + ' to learn more about interactive tables.';\n",
              "          element.innerHTML = '';\n",
              "          dataTable['output_type'] = 'display_data';\n",
              "          await google.colab.output.renderOutput(dataTable, element);\n",
              "          const docLink = document.createElement('div');\n",
              "          docLink.innerHTML = docLinkHtml;\n",
              "          element.appendChild(docLink);\n",
              "        }\n",
              "      </script>\n",
              "    </div>\n",
              "  </div>\n",
              "  "
            ]
          },
          "metadata": {},
          "execution_count": 7
        }
      ]
    },
    {
      "cell_type": "code",
      "source": [
        "df.dtypes"
      ],
      "metadata": {
        "colab": {
          "base_uri": "https://localhost:8080/"
        },
        "id": "BaTmsK3cZ_3i",
        "outputId": "8bd655d3-275c-410e-c952-ab56d1bd3e86"
      },
      "execution_count": null,
      "outputs": [
        {
          "output_type": "execute_result",
          "data": {
            "text/plain": [
              "Tran ID      int64\n",
              "DATE        object\n",
              "ITEM        object\n",
              "QTY        float64\n",
              "PRODUCT     object\n",
              "ADDRESS     object\n",
              "CITY        object\n",
              "dtype: object"
            ]
          },
          "metadata": {},
          "execution_count": 8
        }
      ]
    },
    {
      "cell_type": "code",
      "source": [
        "df.isnull().sum()"
      ],
      "metadata": {
        "colab": {
          "base_uri": "https://localhost:8080/"
        },
        "id": "Z-o5NWTBaKzv",
        "outputId": "0e95f1db-018d-4a45-b311-225566428998"
      },
      "execution_count": null,
      "outputs": [
        {
          "output_type": "execute_result",
          "data": {
            "text/plain": [
              "Tran ID       0\n",
              "DATE          0\n",
              "ITEM          0\n",
              "QTY           0\n",
              "PRODUCT       0\n",
              "ADDRESS       0\n",
              "CITY       1380\n",
              "dtype: int64"
            ]
          },
          "metadata": {},
          "execution_count": 9
        }
      ]
    },
    {
      "cell_type": "code",
      "source": [
        "df['PRODUCT'].value_counts()       # this counts the NUMBER of transactions, not a number of products sold. Each transaction may contain more than 1 product sold"
      ],
      "metadata": {
        "colab": {
          "base_uri": "https://localhost:8080/"
        },
        "id": "FIbD9j46afov",
        "outputId": "cf92c04c-d648-4a3c-f600-99def945508c"
      },
      "execution_count": null,
      "outputs": [
        {
          "output_type": "execute_result",
          "data": {
            "text/plain": [
              "FLASHING RESIN WHITE SUMMER    2909\n",
              "FLASHING RESIN WHITE WINTER    2062\n",
              "FLASHING RESIN GRAY SUMMER     1023\n",
              "ROOFING RESIN WHITE SUMMER      915\n",
              "FLASHING RESIN GRAY WINTER      705\n",
              "ROOFING RESIN WHITE WINTER      683\n",
              "ROOFING RESIN GRAY SUMMER       280\n",
              "ROOFING RESIN GRAY WINTER       178\n",
              "Name: PRODUCT, dtype: int64"
            ]
          },
          "metadata": {},
          "execution_count": 10
        }
      ]
    },
    {
      "cell_type": "code",
      "source": [
        "df.columns"
      ],
      "metadata": {
        "colab": {
          "base_uri": "https://localhost:8080/"
        },
        "id": "wBhV79hch7_b",
        "outputId": "11f4def4-6f7d-4d73-9c67-166ed291fab8"
      },
      "execution_count": null,
      "outputs": [
        {
          "output_type": "execute_result",
          "data": {
            "text/plain": [
              "Index(['Tran ID', 'DATE', 'ITEM', 'QTY', 'PRODUCT', 'ADDRESS', 'CITY'], dtype='object')"
            ]
          },
          "metadata": {},
          "execution_count": 11
        }
      ]
    },
    {
      "cell_type": "code",
      "source": [
        "drop_cols = ['ADDRESS', 'CITY']\n",
        "df.drop(drop_cols, inplace = True, axis=1)\n",
        "\n",
        "# dropping all columns I won't need     "
      ],
      "metadata": {
        "id": "avnsZIf1h5fc"
      },
      "execution_count": null,
      "outputs": []
    },
    {
      "cell_type": "code",
      "source": [
        "df"
      ],
      "metadata": {
        "colab": {
          "base_uri": "https://localhost:8080/",
          "height": 424
        },
        "id": "mBAVIT_xiHW9",
        "outputId": "26c252ba-c7d8-47af-d804-b88f9e9b6644"
      },
      "execution_count": null,
      "outputs": [
        {
          "output_type": "execute_result",
          "data": {
            "text/plain": [
              "      Tran ID        DATE          ITEM   QTY                      PRODUCT  \\\n",
              "0     1045254  01/02/2020   SPFLRES10WG   2.0   FLASHING RESIN GRAY WINTER   \n",
              "1     1044877  01/02/2020   SPFLRES10WG  15.0   FLASHING RESIN GRAY WINTER   \n",
              "2     1044869  01/02/2020  SPFLRES10WWG   1.0  FLASHING RESIN WHITE WINTER   \n",
              "3     1044866  01/02/2020  SPFLRES10WWG  25.0  FLASHING RESIN WHITE WINTER   \n",
              "4     1043993  01/02/2020  SPFLRES10WWG   2.0  FLASHING RESIN WHITE WINTER   \n",
              "...       ...         ...           ...   ...                          ...   \n",
              "8750  1046321  12/30/2022  SPROOF20LGWG   1.0    ROOFING RESIN GRAY WINTER   \n",
              "8751  1043508  12/30/2022   SPROOF20WWG   5.0   ROOFING RESIN WHITE WINTER   \n",
              "8752  1046054  12/30/2022   SPROOF20WWG   2.0   ROOFING RESIN WHITE WINTER   \n",
              "8753  1046024  12/30/2022   SPROOF20WWG   3.0   ROOFING RESIN WHITE WINTER   \n",
              "8754  1045418  12/30/2022   SPROOF20WWG   2.0   ROOFING RESIN WHITE WINTER   \n",
              "\n",
              "                            ADDRESS      CITY  \n",
              "0                             art b       NaN  \n",
              "1                   1345 6th Avenue  New York  \n",
              "2                   719 North Henry       NaN  \n",
              "3     Eagle One Roofing Contractors   Astoria  \n",
              "4                       805 3rd ave       NaN  \n",
              "...                             ...       ...  \n",
              "8750              102-36 62nd Drive    Queens  \n",
              "8751                 730 5th Avenue  New York  \n",
              "8752                 730 5th Avenue  New York  \n",
              "8753            27 West 23rd Street  New York  \n",
              "8754               515 Blake Avenue  Brooklyn  \n",
              "\n",
              "[8755 rows x 7 columns]"
            ],
            "text/html": [
              "\n",
              "  <div id=\"df-34d89a58-a5ed-4f86-a3f9-939f83abb6b0\">\n",
              "    <div class=\"colab-df-container\">\n",
              "      <div>\n",
              "<style scoped>\n",
              "    .dataframe tbody tr th:only-of-type {\n",
              "        vertical-align: middle;\n",
              "    }\n",
              "\n",
              "    .dataframe tbody tr th {\n",
              "        vertical-align: top;\n",
              "    }\n",
              "\n",
              "    .dataframe thead th {\n",
              "        text-align: right;\n",
              "    }\n",
              "</style>\n",
              "<table border=\"1\" class=\"dataframe\">\n",
              "  <thead>\n",
              "    <tr style=\"text-align: right;\">\n",
              "      <th></th>\n",
              "      <th>Tran ID</th>\n",
              "      <th>DATE</th>\n",
              "      <th>ITEM</th>\n",
              "      <th>QTY</th>\n",
              "      <th>PRODUCT</th>\n",
              "      <th>ADDRESS</th>\n",
              "      <th>CITY</th>\n",
              "    </tr>\n",
              "  </thead>\n",
              "  <tbody>\n",
              "    <tr>\n",
              "      <th>0</th>\n",
              "      <td>1045254</td>\n",
              "      <td>01/02/2020</td>\n",
              "      <td>SPFLRES10WG</td>\n",
              "      <td>2.0</td>\n",
              "      <td>FLASHING RESIN GRAY WINTER</td>\n",
              "      <td>art b</td>\n",
              "      <td>NaN</td>\n",
              "    </tr>\n",
              "    <tr>\n",
              "      <th>1</th>\n",
              "      <td>1044877</td>\n",
              "      <td>01/02/2020</td>\n",
              "      <td>SPFLRES10WG</td>\n",
              "      <td>15.0</td>\n",
              "      <td>FLASHING RESIN GRAY WINTER</td>\n",
              "      <td>1345 6th Avenue</td>\n",
              "      <td>New York</td>\n",
              "    </tr>\n",
              "    <tr>\n",
              "      <th>2</th>\n",
              "      <td>1044869</td>\n",
              "      <td>01/02/2020</td>\n",
              "      <td>SPFLRES10WWG</td>\n",
              "      <td>1.0</td>\n",
              "      <td>FLASHING RESIN WHITE WINTER</td>\n",
              "      <td>719 North Henry</td>\n",
              "      <td>NaN</td>\n",
              "    </tr>\n",
              "    <tr>\n",
              "      <th>3</th>\n",
              "      <td>1044866</td>\n",
              "      <td>01/02/2020</td>\n",
              "      <td>SPFLRES10WWG</td>\n",
              "      <td>25.0</td>\n",
              "      <td>FLASHING RESIN WHITE WINTER</td>\n",
              "      <td>Eagle One Roofing Contractors</td>\n",
              "      <td>Astoria</td>\n",
              "    </tr>\n",
              "    <tr>\n",
              "      <th>4</th>\n",
              "      <td>1043993</td>\n",
              "      <td>01/02/2020</td>\n",
              "      <td>SPFLRES10WWG</td>\n",
              "      <td>2.0</td>\n",
              "      <td>FLASHING RESIN WHITE WINTER</td>\n",
              "      <td>805 3rd ave</td>\n",
              "      <td>NaN</td>\n",
              "    </tr>\n",
              "    <tr>\n",
              "      <th>...</th>\n",
              "      <td>...</td>\n",
              "      <td>...</td>\n",
              "      <td>...</td>\n",
              "      <td>...</td>\n",
              "      <td>...</td>\n",
              "      <td>...</td>\n",
              "      <td>...</td>\n",
              "    </tr>\n",
              "    <tr>\n",
              "      <th>8750</th>\n",
              "      <td>1046321</td>\n",
              "      <td>12/30/2022</td>\n",
              "      <td>SPROOF20LGWG</td>\n",
              "      <td>1.0</td>\n",
              "      <td>ROOFING RESIN GRAY WINTER</td>\n",
              "      <td>102-36 62nd Drive</td>\n",
              "      <td>Queens</td>\n",
              "    </tr>\n",
              "    <tr>\n",
              "      <th>8751</th>\n",
              "      <td>1043508</td>\n",
              "      <td>12/30/2022</td>\n",
              "      <td>SPROOF20WWG</td>\n",
              "      <td>5.0</td>\n",
              "      <td>ROOFING RESIN WHITE WINTER</td>\n",
              "      <td>730 5th Avenue</td>\n",
              "      <td>New York</td>\n",
              "    </tr>\n",
              "    <tr>\n",
              "      <th>8752</th>\n",
              "      <td>1046054</td>\n",
              "      <td>12/30/2022</td>\n",
              "      <td>SPROOF20WWG</td>\n",
              "      <td>2.0</td>\n",
              "      <td>ROOFING RESIN WHITE WINTER</td>\n",
              "      <td>730 5th Avenue</td>\n",
              "      <td>New York</td>\n",
              "    </tr>\n",
              "    <tr>\n",
              "      <th>8753</th>\n",
              "      <td>1046024</td>\n",
              "      <td>12/30/2022</td>\n",
              "      <td>SPROOF20WWG</td>\n",
              "      <td>3.0</td>\n",
              "      <td>ROOFING RESIN WHITE WINTER</td>\n",
              "      <td>27 West 23rd Street</td>\n",
              "      <td>New York</td>\n",
              "    </tr>\n",
              "    <tr>\n",
              "      <th>8754</th>\n",
              "      <td>1045418</td>\n",
              "      <td>12/30/2022</td>\n",
              "      <td>SPROOF20WWG</td>\n",
              "      <td>2.0</td>\n",
              "      <td>ROOFING RESIN WHITE WINTER</td>\n",
              "      <td>515 Blake Avenue</td>\n",
              "      <td>Brooklyn</td>\n",
              "    </tr>\n",
              "  </tbody>\n",
              "</table>\n",
              "<p>8755 rows × 7 columns</p>\n",
              "</div>\n",
              "      <button class=\"colab-df-convert\" onclick=\"convertToInteractive('df-34d89a58-a5ed-4f86-a3f9-939f83abb6b0')\"\n",
              "              title=\"Convert this dataframe to an interactive table.\"\n",
              "              style=\"display:none;\">\n",
              "        \n",
              "  <svg xmlns=\"http://www.w3.org/2000/svg\" height=\"24px\"viewBox=\"0 0 24 24\"\n",
              "       width=\"24px\">\n",
              "    <path d=\"M0 0h24v24H0V0z\" fill=\"none\"/>\n",
              "    <path d=\"M18.56 5.44l.94 2.06.94-2.06 2.06-.94-2.06-.94-.94-2.06-.94 2.06-2.06.94zm-11 1L8.5 8.5l.94-2.06 2.06-.94-2.06-.94L8.5 2.5l-.94 2.06-2.06.94zm10 10l.94 2.06.94-2.06 2.06-.94-2.06-.94-.94-2.06-.94 2.06-2.06.94z\"/><path d=\"M17.41 7.96l-1.37-1.37c-.4-.4-.92-.59-1.43-.59-.52 0-1.04.2-1.43.59L10.3 9.45l-7.72 7.72c-.78.78-.78 2.05 0 2.83L4 21.41c.39.39.9.59 1.41.59.51 0 1.02-.2 1.41-.59l7.78-7.78 2.81-2.81c.8-.78.8-2.07 0-2.86zM5.41 20L4 18.59l7.72-7.72 1.47 1.35L5.41 20z\"/>\n",
              "  </svg>\n",
              "      </button>\n",
              "      \n",
              "  <style>\n",
              "    .colab-df-container {\n",
              "      display:flex;\n",
              "      flex-wrap:wrap;\n",
              "      gap: 12px;\n",
              "    }\n",
              "\n",
              "    .colab-df-convert {\n",
              "      background-color: #E8F0FE;\n",
              "      border: none;\n",
              "      border-radius: 50%;\n",
              "      cursor: pointer;\n",
              "      display: none;\n",
              "      fill: #1967D2;\n",
              "      height: 32px;\n",
              "      padding: 0 0 0 0;\n",
              "      width: 32px;\n",
              "    }\n",
              "\n",
              "    .colab-df-convert:hover {\n",
              "      background-color: #E2EBFA;\n",
              "      box-shadow: 0px 1px 2px rgba(60, 64, 67, 0.3), 0px 1px 3px 1px rgba(60, 64, 67, 0.15);\n",
              "      fill: #174EA6;\n",
              "    }\n",
              "\n",
              "    [theme=dark] .colab-df-convert {\n",
              "      background-color: #3B4455;\n",
              "      fill: #D2E3FC;\n",
              "    }\n",
              "\n",
              "    [theme=dark] .colab-df-convert:hover {\n",
              "      background-color: #434B5C;\n",
              "      box-shadow: 0px 1px 3px 1px rgba(0, 0, 0, 0.15);\n",
              "      filter: drop-shadow(0px 1px 2px rgba(0, 0, 0, 0.3));\n",
              "      fill: #FFFFFF;\n",
              "    }\n",
              "  </style>\n",
              "\n",
              "      <script>\n",
              "        const buttonEl =\n",
              "          document.querySelector('#df-34d89a58-a5ed-4f86-a3f9-939f83abb6b0 button.colab-df-convert');\n",
              "        buttonEl.style.display =\n",
              "          google.colab.kernel.accessAllowed ? 'block' : 'none';\n",
              "\n",
              "        async function convertToInteractive(key) {\n",
              "          const element = document.querySelector('#df-34d89a58-a5ed-4f86-a3f9-939f83abb6b0');\n",
              "          const dataTable =\n",
              "            await google.colab.kernel.invokeFunction('convertToInteractive',\n",
              "                                                     [key], {});\n",
              "          if (!dataTable) return;\n",
              "\n",
              "          const docLinkHtml = 'Like what you see? Visit the ' +\n",
              "            '<a target=\"_blank\" href=https://colab.research.google.com/notebooks/data_table.ipynb>data table notebook</a>'\n",
              "            + ' to learn more about interactive tables.';\n",
              "          element.innerHTML = '';\n",
              "          dataTable['output_type'] = 'display_data';\n",
              "          await google.colab.output.renderOutput(dataTable, element);\n",
              "          const docLink = document.createElement('div');\n",
              "          docLink.innerHTML = docLinkHtml;\n",
              "          element.appendChild(docLink);\n",
              "        }\n",
              "      </script>\n",
              "    </div>\n",
              "  </div>\n",
              "  "
            ]
          },
          "metadata": {},
          "execution_count": 11
        }
      ]
    },
    {
      "cell_type": "code",
      "source": [
        "df1=df['PRODUCT'].value_counts().nlargest(10).plot(kind='barh')   # this displays the NUMBER of transactions, not a number of products sold. Each transaction may contain more than 1 product sold\n",
        "df1"
      ],
      "metadata": {
        "colab": {
          "base_uri": "https://localhost:8080/",
          "height": 282
        },
        "id": "00QkOS6giv2e",
        "outputId": "189192c1-d3b3-4914-cf2a-8cde7385b012"
      },
      "execution_count": null,
      "outputs": [
        {
          "output_type": "execute_result",
          "data": {
            "text/plain": [
              "<matplotlib.axes._subplots.AxesSubplot at 0x7f3f45c44ee0>"
            ]
          },
          "metadata": {},
          "execution_count": 78
        },
        {
          "output_type": "display_data",
          "data": {
            "text/plain": [
              "<Figure size 432x288 with 1 Axes>"
            ],
            "image/png": "[encoded data removed]"
          },
          "metadata": {
            "needs_background": "light"
          }
        }
      ]
    },
    {
      "cell_type": "code",
      "source": [
        "flashinggraywinter= df[df['PRODUCT'] == 'FLASHING RESIN GRAY WINTER']\n",
        "flashinggraysummer= df[df['PRODUCT'] == 'FLASHING RESIN GRAY SUMMER']\n",
        "flashingwhitewinter= df[df['PRODUCT'] == 'FLASHING RESIN WHITE WINTER']\n",
        "flashingwhitesummer= df[df['PRODUCT'] == 'FLASHING RESIN WHITE SUMMER']\n",
        "\n",
        "\n",
        "roofinggraysummer= df[df['PRODUCT'] == 'ROOFING RESIN GRAY SUMMER']\n",
        "roofinggraywinter= df[df['PRODUCT'] == 'ROOFING RESIN GRAY WINTER']\n",
        "roofingwhitesummer= df[df['PRODUCT'] == 'ROOFING RESIN WHITE SUMMER']\n",
        "roofingwhitewinter= df[df['PRODUCT'] == 'ROOFING RESIN WHITE WINTER']\n",
        "\n",
        "# how to use 'or' when creating a new dataset out of existing one?"
      ],
      "metadata": {
        "id": "z64BVP3Emtgj"
      },
      "execution_count": null,
      "outputs": []
    },
    {
      "cell_type": "code",
      "source": [
        "flashingall = pd.concat([flashinggraysummer, flashinggraywinter, flashingwhitewinter, flashingwhitesummer ], ignore_index=True)\n",
        "roofingall = pd.concat([roofinggraysummer, roofinggraywinter, roofingwhitesummer, roofingwhitewinter], ignore_index=True)"
      ],
      "metadata": {
        "id": "2yVS5RpSEOkH"
      },
      "execution_count": null,
      "outputs": []
    },
    {
      "cell_type": "code",
      "source": [
        "sumproductsall = df.groupby(['PRODUCT']).sum() \n",
        "sumproductsall\n",
        "\n",
        "# I have quantities of sold buckets, but don't know how to use them in the charts"
      ],
      "metadata": {
        "colab": {
          "base_uri": "https://localhost:8080/",
          "height": 332
        },
        "id": "C8JNUt4w0CTC",
        "outputId": "8b79253f-e819-4b40-c617-871b2f2a1d87"
      },
      "execution_count": null,
      "outputs": [
        {
          "output_type": "execute_result",
          "data": {
            "text/plain": [
              "                                Tran ID      QTY\n",
              "PRODUCT                                         \n",
              "FLASHING RESIN GRAY SUMMER   1256260390   7756.0\n",
              "FLASHING RESIN GRAY WINTER    842580807   4342.0\n",
              "FLASHING RESIN WHITE SUMMER  3527744592  35584.0\n",
              "FLASHING RESIN WHITE WINTER  2484693322  24196.0\n",
              "ROOFING RESIN GRAY SUMMER     346924193   1576.0\n",
              "ROOFING RESIN GRAY WINTER     209382022   1300.0\n",
              "ROOFING RESIN WHITE SUMMER   1118982974  21844.0\n",
              "ROOFING RESIN WHITE WINTER    813997269  12920.0"
            ],
            "text/html": [
              "\n",
              "  <div id=\"df-0dddda05-1033-49f0-8692-5b8883822631\">\n",
              "    <div class=\"colab-df-container\">\n",
              "      <div>\n",
              "<style scoped>\n",
              "    .dataframe tbody tr th:only-of-type {\n",
              "        vertical-align: middle;\n",
              "    }\n",
              "\n",
              "    .dataframe tbody tr th {\n",
              "        vertical-align: top;\n",
              "    }\n",
              "\n",
              "    .dataframe thead th {\n",
              "        text-align: right;\n",
              "    }\n",
              "</style>\n",
              "<table border=\"1\" class=\"dataframe\">\n",
              "  <thead>\n",
              "    <tr style=\"text-align: right;\">\n",
              "      <th></th>\n",
              "      <th>Tran ID</th>\n",
              "      <th>QTY</th>\n",
              "    </tr>\n",
              "    <tr>\n",
              "      <th>PRODUCT</th>\n",
              "      <th></th>\n",
              "      <th></th>\n",
              "    </tr>\n",
              "  </thead>\n",
              "  <tbody>\n",
              "    <tr>\n",
              "      <th>FLASHING RESIN GRAY SUMMER</th>\n",
              "      <td>1256260390</td>\n",
              "      <td>7756.0</td>\n",
              "    </tr>\n",
              "    <tr>\n",
              "      <th>FLASHING RESIN GRAY WINTER</th>\n",
              "      <td>842580807</td>\n",
              "      <td>4342.0</td>\n",
              "    </tr>\n",
              "    <tr>\n",
              "      <th>FLASHING RESIN WHITE SUMMER</th>\n",
              "      <td>3527744592</td>\n",
              "      <td>35584.0</td>\n",
              "    </tr>\n",
              "    <tr>\n",
              "      <th>FLASHING RESIN WHITE WINTER</th>\n",
              "      <td>2484693322</td>\n",
              "      <td>24196.0</td>\n",
              "    </tr>\n",
              "    <tr>\n",
              "      <th>ROOFING RESIN GRAY SUMMER</th>\n",
              "      <td>346924193</td>\n",
              "      <td>1576.0</td>\n",
              "    </tr>\n",
              "    <tr>\n",
              "      <th>ROOFING RESIN GRAY WINTER</th>\n",
              "      <td>209382022</td>\n",
              "      <td>1300.0</td>\n",
              "    </tr>\n",
              "    <tr>\n",
              "      <th>ROOFING RESIN WHITE SUMMER</th>\n",
              "      <td>1118982974</td>\n",
              "      <td>21844.0</td>\n",
              "    </tr>\n",
              "    <tr>\n",
              "      <th>ROOFING RESIN WHITE WINTER</th>\n",
              "      <td>813997269</td>\n",
              "      <td>12920.0</td>\n",
              "    </tr>\n",
              "  </tbody>\n",
              "</table>\n",
              "</div>\n",
              "      <button class=\"colab-df-convert\" onclick=\"convertToInteractive('df-0dddda05-1033-49f0-8692-5b8883822631')\"\n",
              "              title=\"Convert this dataframe to an interactive table.\"\n",
              "              style=\"display:none;\">\n",
              "        \n",
              "  <svg xmlns=\"http://www.w3.org/2000/svg\" height=\"24px\"viewBox=\"0 0 24 24\"\n",
              "       width=\"24px\">\n",
              "    <path d=\"M0 0h24v24H0V0z\" fill=\"none\"/>\n",
              "    <path d=\"M18.56 5.44l.94 2.06.94-2.06 2.06-.94-2.06-.94-.94-2.06-.94 2.06-2.06.94zm-11 1L8.5 8.5l.94-2.06 2.06-.94-2.06-.94L8.5 2.5l-.94 2.06-2.06.94zm10 10l.94 2.06.94-2.06 2.06-.94-2.06-.94-.94-2.06-.94 2.06-2.06.94z\"/><path d=\"M17.41 7.96l-1.37-1.37c-.4-.4-.92-.59-1.43-.59-.52 0-1.04.2-1.43.59L10.3 9.45l-7.72 7.72c-.78.78-.78 2.05 0 2.83L4 21.41c.39.39.9.59 1.41.59.51 0 1.02-.2 1.41-.59l7.78-7.78 2.81-2.81c.8-.78.8-2.07 0-2.86zM5.41 20L4 18.59l7.72-7.72 1.47 1.35L5.41 20z\"/>\n",
              "  </svg>\n",
              "      </button>\n",
              "      \n",
              "  <style>\n",
              "    .colab-df-container {\n",
              "      display:flex;\n",
              "      flex-wrap:wrap;\n",
              "      gap: 12px;\n",
              "    }\n",
              "\n",
              "    .colab-df-convert {\n",
              "      background-color: #E8F0FE;\n",
              "      border: none;\n",
              "      border-radius: 50%;\n",
              "      cursor: pointer;\n",
              "      display: none;\n",
              "      fill: #1967D2;\n",
              "      height: 32px;\n",
              "      padding: 0 0 0 0;\n",
              "      width: 32px;\n",
              "    }\n",
              "\n",
              "    .colab-df-convert:hover {\n",
              "      background-color: #E2EBFA;\n",
              "      box-shadow: 0px 1px 2px rgba(60, 64, 67, 0.3), 0px 1px 3px 1px rgba(60, 64, 67, 0.15);\n",
              "      fill: #174EA6;\n",
              "    }\n",
              "\n",
              "    [theme=dark] .colab-df-convert {\n",
              "      background-color: #3B4455;\n",
              "      fill: #D2E3FC;\n",
              "    }\n",
              "\n",
              "    [theme=dark] .colab-df-convert:hover {\n",
              "      background-color: #434B5C;\n",
              "      box-shadow: 0px 1px 3px 1px rgba(0, 0, 0, 0.15);\n",
              "      filter: drop-shadow(0px 1px 2px rgba(0, 0, 0, 0.3));\n",
              "      fill: #FFFFFF;\n",
              "    }\n",
              "  </style>\n",
              "\n",
              "      <script>\n",
              "        const buttonEl =\n",
              "          document.querySelector('#df-0dddda05-1033-49f0-8692-5b8883822631 button.colab-df-convert');\n",
              "        buttonEl.style.display =\n",
              "          google.colab.kernel.accessAllowed ? 'block' : 'none';\n",
              "\n",
              "        async function convertToInteractive(key) {\n",
              "          const element = document.querySelector('#df-0dddda05-1033-49f0-8692-5b8883822631');\n",
              "          const dataTable =\n",
              "            await google.colab.kernel.invokeFunction('convertToInteractive',\n",
              "                                                     [key], {});\n",
              "          if (!dataTable) return;\n",
              "\n",
              "          const docLinkHtml = 'Like what you see? Visit the ' +\n",
              "            '<a target=\"_blank\" href=https://colab.research.google.com/notebooks/data_table.ipynb>data table notebook</a>'\n",
              "            + ' to learn more about interactive tables.';\n",
              "          element.innerHTML = '';\n",
              "          dataTable['output_type'] = 'display_data';\n",
              "          await google.colab.output.renderOutput(dataTable, element);\n",
              "          const docLink = document.createElement('div');\n",
              "          docLink.innerHTML = docLinkHtml;\n",
              "          element.appendChild(docLink);\n",
              "        }\n",
              "      </script>\n",
              "    </div>\n",
              "  </div>\n",
              "  "
            ]
          },
          "metadata": {},
          "execution_count": 14
        }
      ]
    },
    {
      "cell_type": "code",
      "source": [
        "df.groupby(['PRODUCT'])['QTY'].sum().sort_values(ascending=False).plot(kind='bar', color=['black', 'red', 'green', 'blue', 'cyan']) \n",
        "\n",
        "# I finally used sum function to create the chart...\n",
        "# how do I find out how many buckets were sold in each year (2020, 2021, 2022)? Do I have to split the date column?"
      ],
      "metadata": {
        "colab": {
          "base_uri": "https://localhost:8080/",
          "height": 452
        },
        "id": "SxENrd7eAFCb",
        "outputId": "42246317-ce64-4b16-9bb7-fb7f87506472"
      },
      "execution_count": null,
      "outputs": [
        {
          "output_type": "execute_result",
          "data": {
            "text/plain": [
              "<matplotlib.axes._subplots.AxesSubplot at 0x7f3f45cd3af0>"
            ]
          },
          "metadata": {},
          "execution_count": 76
        },
        {
          "output_type": "display_data",
          "data": {
            "text/plain": [
              "<Figure size 432x288 with 1 Axes>"
            ],
            "image/png": "[encoded data removed]"
          },
          "metadata": {
            "needs_background": "light"
          }
        }
      ]
    },
    {
      "cell_type": "code",
      "source": [
        "roofingall.groupby(['PRODUCT'])['QTY'].sum().sort_values(ascending=False).plot(kind='bar', color=['black', 'red', 'green', 'blue', 'cyan']) "
      ],
      "metadata": {
        "colab": {
          "base_uri": "https://localhost:8080/",
          "height": 448
        },
        "id": "RGTTTypNFdrv",
        "outputId": "dc0c4a97-f2e6-4399-9334-89b50d248f44"
      },
      "execution_count": null,
      "outputs": [
        {
          "output_type": "execute_result",
          "data": {
            "text/plain": [
              "<matplotlib.axes._subplots.AxesSubplot at 0x7f3f45dd5d30>"
            ]
          },
          "metadata": {},
          "execution_count": 71
        },
        {
          "output_type": "display_data",
          "data": {
            "text/plain": [
              "<Figure size 432x288 with 1 Axes>"
            ],
            "image/png": "[encoded data removed]"
          },
          "metadata": {
            "needs_background": "light"
          }
        }
      ]
    },
    {
      "cell_type": "code",
      "source": [
        "flashingall.groupby(['PRODUCT'])['QTY'].sum().sort_values(ascending=False).plot(kind='bar', color=['black', 'red', 'green', 'blue', 'cyan']) "
      ],
      "metadata": {
        "colab": {
          "base_uri": "https://localhost:8080/",
          "height": 452
        },
        "id": "L7ypbcc4Tyf-",
        "outputId": "aa5f84b1-9164-4ab2-deb4-e954cd05ddec"
      },
      "execution_count": null,
      "outputs": [
        {
          "output_type": "execute_result",
          "data": {
            "text/plain": [
              "<matplotlib.axes._subplots.AxesSubplot at 0x7f3f460924c0>"
            ]
          },
          "metadata": {},
          "execution_count": 72
        },
        {
          "output_type": "display_data",
          "data": {
            "text/plain": [
              "<Figure size 432x288 with 1 Axes>"
            ],
            "image/png": "[encoded data removed]"
          },
          "metadata": {
            "needs_background": "light"
          }
        }
      ]
    },
    {
      "cell_type": "code",
      "source": [
        "sumproductsall.groupby(['PRODUCT'])['QTY'].sum().sort_values(ascending=False).plot(kind='bar', color=['black', 'red', 'green', 'blue', 'cyan']) "
      ],
      "metadata": {
        "colab": {
          "base_uri": "https://localhost:8080/",
          "height": 452
        },
        "id": "kDCUgCOMBSP0",
        "outputId": "4b9b4f95-ac91-492e-ccd3-7475ceb84662"
      },
      "execution_count": null,
      "outputs": [
        {
          "output_type": "execute_result",
          "data": {
            "text/plain": [
              "<matplotlib.axes._subplots.AxesSubplot at 0x7f3f462e3160>"
            ]
          },
          "metadata": {},
          "execution_count": 73
        },
        {
          "output_type": "display_data",
          "data": {
            "text/plain": [
              "<Figure size 432x288 with 1 Axes>"
            ],
            "image/png": "[encoded data removed]"
          },
          "metadata": {
            "needs_background": "light"
          }
        }
      ]
    }
  ]
}